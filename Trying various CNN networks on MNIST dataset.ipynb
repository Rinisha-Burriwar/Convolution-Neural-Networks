{
 "cells": [
  {
   "cell_type": "markdown",
   "metadata": {
    "colab_type": "text",
    "id": "9_LqBzk6gj4J"
   },
   "source": [
    "# 1. Importing packages"
   ]
  },
  {
   "cell_type": "code",
   "execution_count": 1,
   "metadata": {
    "colab": {
     "base_uri": "https://localhost:8080/",
     "height": 35
    },
    "colab_type": "code",
    "id": "le_AqXGkZndd",
    "outputId": "e6868abe-afaa-4fa5-cbd8-93dae877363a"
   },
   "outputs": [
    {
     "name": "stderr",
     "output_type": "stream",
     "text": [
      "Using TensorFlow backend.\n"
     ]
    }
   ],
   "source": [
    "from __future__ import print_function\n",
    "import keras\n",
    "from keras.datasets import mnist\n",
    "from keras.models import Sequential\n",
    "from keras.layers import Dense, Dropout, Flatten\n",
    "from keras.layers import Conv2D, MaxPooling2D\n",
    "from keras import backend as K\n"
   ]
  },
  {
   "cell_type": "code",
   "execution_count": 0,
   "metadata": {
    "colab": {},
    "colab_type": "code",
    "id": "4jwm2dkjZngq"
   },
   "outputs": [],
   "source": [
    "batch_size = 128\n",
    "num_classes = 10\n",
    "epochs = 12\n",
    "\n",
    "# input image dimensions\n",
    "img_rows, img_cols = 28, 28"
   ]
  },
  {
   "cell_type": "markdown",
   "metadata": {
    "colab_type": "text",
    "id": "63S51Pncgj4p"
   },
   "source": [
    "# 2. Splitting Data into Train and Test "
   ]
  },
  {
   "cell_type": "code",
   "execution_count": 3,
   "metadata": {
    "colab": {
     "base_uri": "https://localhost:8080/",
     "height": 52
    },
    "colab_type": "code",
    "id": "EJ0vtmlXZnjo",
    "outputId": "53b664b7-219e-4808-d1d0-d53975d1113e"
   },
   "outputs": [
    {
     "name": "stdout",
     "output_type": "stream",
     "text": [
      "Downloading data from https://s3.amazonaws.com/img-datasets/mnist.npz\n",
      "11493376/11490434 [==============================] - 2s 0us/step\n"
     ]
    }
   ],
   "source": [
    "# the data, split between train and test sets\n",
    "(x_train, y_train), (x_test, y_test) = mnist.load_data()"
   ]
  },
  {
   "cell_type": "markdown",
   "metadata": {
    "colab_type": "text",
    "id": "aM2f1K-Lgj41"
   },
   "source": [
    "https://keras.io/backend/"
   ]
  },
  {
   "cell_type": "code",
   "execution_count": 0,
   "metadata": {
    "colab": {},
    "colab_type": "code",
    "id": "k3Kl4o7iZnm1"
   },
   "outputs": [],
   "source": [
    "#As Tensorflow uses channels_last so it will run the\"else\" part of the loop \n",
    "if K.image_data_format() == 'channels_first':\n",
    "    x_train = x_train.reshape(x_train.shape[0], 1, img_rows, img_cols)\n",
    "    x_test = x_test.reshape(x_test.shape[0], 1, img_rows, img_cols)\n",
    "    input_shape = (1, img_rows, img_cols)\n",
    "else:\n",
    "    x_train = x_train.reshape(x_train.shape[0], img_rows, img_cols, 1)\n",
    "    x_test = x_test.reshape(x_test.shape[0], img_rows, img_cols, 1)\n",
    "    input_shape = (img_rows, img_cols, 1)"
   ]
  },
  {
   "cell_type": "code",
   "execution_count": 5,
   "metadata": {
    "colab": {
     "base_uri": "https://localhost:8080/",
     "height": 35
    },
    "colab_type": "code",
    "id": "jsISgsvffmdS",
    "outputId": "80d3ac81-19cc-4b86-96e6-09a17bb623f0"
   },
   "outputs": [
    {
     "data": {
      "text/plain": [
       "(60000, 28, 28, 1)"
      ]
     },
     "execution_count": 5,
     "metadata": {
      "tags": []
     },
     "output_type": "execute_result"
    }
   ],
   "source": [
    "x_train.shape"
   ]
  },
  {
   "cell_type": "markdown",
   "metadata": {
    "colab_type": "text",
    "id": "mTgtcWe0gj5R"
   },
   "source": [
    "# 3.Normalizing Data"
   ]
  },
  {
   "cell_type": "code",
   "execution_count": 0,
   "metadata": {
    "colab": {},
    "colab_type": "code",
    "id": "QR8O8ihOZnp9"
   },
   "outputs": [],
   "source": [
    "x_train = x_train.astype('float32')\n",
    "x_test = x_test.astype('float32')\n",
    "x_train /= 255\n",
    "x_test /= 255"
   ]
  },
  {
   "cell_type": "code",
   "execution_count": 7,
   "metadata": {
    "colab": {
     "base_uri": "https://localhost:8080/",
     "height": 70
    },
    "colab_type": "code",
    "id": "pFgmjjY9ZntC",
    "outputId": "d6e57f53-f1f5-457c-d178-b80d01848079"
   },
   "outputs": [
    {
     "name": "stdout",
     "output_type": "stream",
     "text": [
      "x_train shape: (60000, 28, 28, 1)\n",
      "60000 train samples\n",
      "10000 test samples\n"
     ]
    }
   ],
   "source": [
    "print('x_train shape:', x_train.shape)\n",
    "print(x_train.shape[0], 'train samples')\n",
    "print(x_test.shape[0], 'test samples')"
   ]
  },
  {
   "cell_type": "markdown",
   "metadata": {
    "colab_type": "text",
    "id": "iYgLusLagj5p"
   },
   "source": [
    "# 4. One hot encoding of target feature"
   ]
  },
  {
   "cell_type": "code",
   "execution_count": 0,
   "metadata": {
    "colab": {},
    "colab_type": "code",
    "id": "Vi0h3UcUZnv8"
   },
   "outputs": [],
   "source": [
    "# convert class vectors to binary class matrices\n",
    "y_train = keras.utils.to_categorical(y_train, num_classes)\n",
    "y_test = keras.utils.to_categorical(y_test, num_classes)\n"
   ]
  },
  {
   "cell_type": "code",
   "execution_count": 10,
   "metadata": {
    "colab": {
     "base_uri": "https://localhost:8080/",
     "height": 35
    },
    "colab_type": "code",
    "id": "8uK1TaWtgzkR",
    "outputId": "30f40a40-5cfc-4abc-f94e-2bc10a2fba52"
   },
   "outputs": [
    {
     "data": {
      "text/plain": [
       "array([0., 0., 0., 0., 1., 0., 0., 0., 0., 0.], dtype=float32)"
      ]
     },
     "execution_count": 10,
     "metadata": {
      "tags": []
     },
     "output_type": "execute_result"
    }
   ],
   "source": [
    "y_train[2]"
   ]
  },
  {
   "cell_type": "markdown",
   "metadata": {
    "colab_type": "text",
    "id": "NLdrCXLigj50"
   },
   "source": [
    "# 5. Building different CNN architectures"
   ]
  },
  {
   "cell_type": "markdown",
   "metadata": {
    "colab_type": "text",
    "id": "Fb96RwqLgj51"
   },
   "source": [
    "#### Function for plotting error plots"
   ]
  },
  {
   "cell_type": "code",
   "execution_count": 0,
   "metadata": {
    "colab": {},
    "colab_type": "code",
    "id": "EmxXMZtUgt_2"
   },
   "outputs": [],
   "source": [
    "%matplotlib notebook\n",
    "import matplotlib.pyplot as plt\n",
    "import numpy as np\n",
    "import time\n",
    "# https://gist.github.com/greydanus/f6eee59eaf1d90fcb3b534a25362cea4\n",
    "# https://stackoverflow.com/a/14434334\n",
    "# this function is used to update the plots for each epoch and error\n",
    "def plt_dynamic(x, vy, ty, ax, colors=['b']):\n",
    "    ax.plot(x, vy, 'b', label=\"Validation Loss\")\n",
    "    ax.plot(x, ty, 'r', label=\"Train Loss\")\n",
    "    plt.legend()\n",
    "    plt.grid()\n",
    "    fig.canvas.draw()"
   ]
  },
  {
   "cell_type": "markdown",
   "metadata": {
    "colab_type": "text",
    "id": "wNtBqRuhgj58"
   },
   "source": [
    "# 5.1. Architecture 1"
   ]
  },
  {
   "cell_type": "code",
   "execution_count": 12,
   "metadata": {
    "colab": {
     "base_uri": "https://localhost:8080/",
     "height": 712
    },
    "colab_type": "code",
    "id": "EquLpI_BZ_lX",
    "outputId": "6492e720-99c5-41e9-98aa-d814d4e532ff"
   },
   "outputs": [
    {
     "name": "stdout",
     "output_type": "stream",
     "text": [
      "WARNING:tensorflow:From /usr/local/lib/python3.6/dist-packages/keras/backend/tensorflow_backend.py:66: The name tf.get_default_graph is deprecated. Please use tf.compat.v1.get_default_graph instead.\n",
      "\n",
      "WARNING:tensorflow:From /usr/local/lib/python3.6/dist-packages/keras/backend/tensorflow_backend.py:541: The name tf.placeholder is deprecated. Please use tf.compat.v1.placeholder instead.\n",
      "\n",
      "WARNING:tensorflow:From /usr/local/lib/python3.6/dist-packages/keras/backend/tensorflow_backend.py:4432: The name tf.random_uniform is deprecated. Please use tf.random.uniform instead.\n",
      "\n",
      "WARNING:tensorflow:From /usr/local/lib/python3.6/dist-packages/keras/backend/tensorflow_backend.py:4267: The name tf.nn.max_pool is deprecated. Please use tf.nn.max_pool2d instead.\n",
      "\n",
      "WARNING:tensorflow:From /usr/local/lib/python3.6/dist-packages/keras/backend/tensorflow_backend.py:148: The name tf.placeholder_with_default is deprecated. Please use tf.compat.v1.placeholder_with_default instead.\n",
      "\n",
      "WARNING:tensorflow:From /usr/local/lib/python3.6/dist-packages/keras/backend/tensorflow_backend.py:3733: calling dropout (from tensorflow.python.ops.nn_ops) with keep_prob is deprecated and will be removed in a future version.\n",
      "Instructions for updating:\n",
      "Please use `rate` instead of `keep_prob`. Rate should be set to `rate = 1 - keep_prob`.\n",
      "Model: \"sequential_1\"\n",
      "_________________________________________________________________\n",
      "Layer (type)                 Output Shape              Param #   \n",
      "=================================================================\n",
      "conv2d_1 (Conv2D)            (None, 26, 26, 32)        320       \n",
      "_________________________________________________________________\n",
      "conv2d_2 (Conv2D)            (None, 24, 24, 64)        18496     \n",
      "_________________________________________________________________\n",
      "max_pooling2d_1 (MaxPooling2 (None, 12, 12, 64)        0         \n",
      "_________________________________________________________________\n",
      "dropout_1 (Dropout)          (None, 12, 12, 64)        0         \n",
      "_________________________________________________________________\n",
      "flatten_1 (Flatten)          (None, 9216)              0         \n",
      "_________________________________________________________________\n",
      "dense_1 (Dense)              (None, 128)               1179776   \n",
      "_________________________________________________________________\n",
      "dropout_2 (Dropout)          (None, 128)               0         \n",
      "_________________________________________________________________\n",
      "dense_2 (Dense)              (None, 10)                1290      \n",
      "=================================================================\n",
      "Total params: 1,199,882\n",
      "Trainable params: 1,199,882\n",
      "Non-trainable params: 0\n",
      "_________________________________________________________________\n",
      "None\n"
     ]
    }
   ],
   "source": [
    "\n",
    "model = Sequential()\n",
    "model.add(Conv2D(32, kernel_size=(3, 3),\n",
    "                 activation='relu',\n",
    "                 input_shape=input_shape))\n",
    "model.add(Conv2D(64, (3, 3), activation='relu'))\n",
    "model.add(MaxPooling2D(pool_size=(2, 2)))\n",
    "model.add(Dropout(0.25))\n",
    "model.add(Flatten())\n",
    "model.add(Dense(128, activation='relu'))\n",
    "model.add(Dropout(0.5))\n",
    "model.add(Dense(num_classes, activation='softmax'))\n",
    "\n",
    "print(model.summary())"
   ]
  },
  {
   "cell_type": "code",
   "execution_count": 14,
   "metadata": {
    "colab": {
     "base_uri": "https://localhost:8080/",
     "height": 461
    },
    "colab_type": "code",
    "id": "33l-1ESjg-8q",
    "outputId": "b15ee88a-cca8-4d0d-b6f7-a12758504025"
   },
   "outputs": [
    {
     "name": "stdout",
     "output_type": "stream",
     "text": [
      "Train on 60000 samples, validate on 10000 samples\n",
      "Epoch 1/12\n",
      "60000/60000 [==============================] - 10s 158us/step - loss: 0.0649 - acc: 0.9810 - val_loss: 0.0341 - val_acc: 0.9884\n",
      "Epoch 2/12\n",
      "60000/60000 [==============================] - 9s 150us/step - loss: 0.0525 - acc: 0.9841 - val_loss: 0.0297 - val_acc: 0.9893\n",
      "Epoch 3/12\n",
      "60000/60000 [==============================] - 9s 150us/step - loss: 0.0481 - acc: 0.9850 - val_loss: 0.0289 - val_acc: 0.9902\n",
      "Epoch 4/12\n",
      "60000/60000 [==============================] - 9s 149us/step - loss: 0.0390 - acc: 0.9882 - val_loss: 0.0282 - val_acc: 0.9909\n",
      "Epoch 5/12\n",
      "60000/60000 [==============================] - 9s 151us/step - loss: 0.0368 - acc: 0.9885 - val_loss: 0.0263 - val_acc: 0.9912\n",
      "Epoch 6/12\n",
      "60000/60000 [==============================] - 9s 152us/step - loss: 0.0345 - acc: 0.9892 - val_loss: 0.0283 - val_acc: 0.9905\n",
      "Epoch 7/12\n",
      "60000/60000 [==============================] - 9s 151us/step - loss: 0.0317 - acc: 0.9905 - val_loss: 0.0247 - val_acc: 0.9919\n",
      "Epoch 8/12\n",
      "60000/60000 [==============================] - 9s 150us/step - loss: 0.0300 - acc: 0.9906 - val_loss: 0.0268 - val_acc: 0.9913\n",
      "Epoch 9/12\n",
      "60000/60000 [==============================] - 9s 149us/step - loss: 0.0278 - acc: 0.9915 - val_loss: 0.0266 - val_acc: 0.9914\n",
      "Epoch 10/12\n",
      "60000/60000 [==============================] - 9s 149us/step - loss: 0.0251 - acc: 0.9925 - val_loss: 0.0281 - val_acc: 0.9919\n",
      "Epoch 11/12\n",
      "60000/60000 [==============================] - 9s 149us/step - loss: 0.0250 - acc: 0.9921 - val_loss: 0.0283 - val_acc: 0.9922\n",
      "Epoch 12/12\n",
      "60000/60000 [==============================] - 9s 149us/step - loss: 0.0248 - acc: 0.9923 - val_loss: 0.0280 - val_acc: 0.9920\n"
     ]
    }
   ],
   "source": [
    "model.compile(loss=keras.losses.categorical_crossentropy,\n",
    "              optimizer=keras.optimizers.Adadelta(),\n",
    "              metrics=['accuracy'])\n",
    "\n",
    "a = model.fit(x_train, y_train,\n",
    "          batch_size=batch_size,\n",
    "          epochs=epochs,\n",
    "          verbose=1,\n",
    "          validation_data=(x_test, y_test))"
   ]
  },
  {
   "cell_type": "code",
   "execution_count": 15,
   "metadata": {
    "colab": {
     "base_uri": "https://localhost:8080/",
     "height": 372
    },
    "colab_type": "code",
    "id": "dHsxz9bAhV2o",
    "outputId": "4c84ae0f-de17-40a5-dcac-ce38c9f13a8e"
   },
   "outputs": [
    {
     "name": "stdout",
     "output_type": "stream",
     "text": [
      "Train score: 0.0058519107314346985\n",
      "Train accuracy: 0.9982833333333333\n",
      "#############################################\n",
      "Test score: 0.028024299745546342\n",
      "Test accuracy: 0.992\n"
     ]
    },
    {
     "data": {
      "image/png": "[encoded data removed]",
      "text/plain": [
       "<Figure size 432x288 with 1 Axes>"
      ]
     },
     "metadata": {
      "tags": []
     },
     "output_type": "display_data"
    }
   ],
   "source": [
    "%matplotlib inline \n",
    "score1 = model.evaluate(x_train, y_train, verbose=0) \n",
    "print('Train score:', score1[0]) \n",
    "print('Train accuracy:', score1[1])\n",
    "print(\"#############################################\")\n",
    "score = model.evaluate(x_test, y_test, verbose=0) \n",
    "print('Test score:', score[0]) \n",
    "print('Test accuracy:', score[1])\n",
    "\n",
    "fig,ax = plt.subplots(1,1)\n",
    "ax.set_xlabel('epoch') ; ax.set_ylabel('Categorical Crossentropy Loss')\n",
    "\n",
    "# list of epoch numbers\n",
    "x = list(range(1,epochs+1))\n",
    "\n",
    "# print(history.history.keys())\n",
    "# dict_keys(['val_loss', 'val_acc', 'loss', 'acc'])\n",
    "# history = model_drop.fit(X_train, Y_train, batch_size=batch_size, epochs=nb_epoch, verbose=1, validation_data=(X_test, Y_test))\n",
    "\n",
    "# we will get val_loss and val_acc only when you pass the paramter validation_data\n",
    "# val_loss : validation loss\n",
    "# val_acc : validation accuracy\n",
    "\n",
    "# loss : training loss\n",
    "# acc : train accuracy\n",
    "# for each key in histrory.histrory we will have a list of length equal to number of epochs\n",
    "\n",
    "\n",
    "vy = a.history['val_loss']\n",
    "ty = a.history['loss']\n",
    "plt_dynamic(x, vy, ty, ax)"
   ]
  },
  {
   "cell_type": "markdown",
   "metadata": {
    "colab_type": "text",
    "id": "-IlVjI_Ygj6H"
   },
   "source": [
    "# 5.2. Architecture 2"
   ]
  },
  {
   "cell_type": "code",
   "execution_count": 0,
   "metadata": {
    "colab": {
     "base_uri": "https://localhost:8080/",
     "height": 444
    },
    "colab_type": "code",
    "id": "tUdZPGISmwKq",
    "outputId": "ff816588-54ed-420c-abb6-9b9668181075"
   },
   "outputs": [
    {
     "name": "stdout",
     "output_type": "stream",
     "text": [
      "Model: \"sequential_7\"\n",
      "_________________________________________________________________\n",
      "Layer (type)                 Output Shape              Param #   \n",
      "=================================================================\n",
      "conv2d_17 (Conv2D)           (None, 24, 24, 8)         208       \n",
      "_________________________________________________________________\n",
      "conv2d_18 (Conv2D)           (None, 20, 20, 16)        3216      \n",
      "_________________________________________________________________\n",
      "max_pooling2d_6 (MaxPooling2 (None, 10, 10, 16)        0         \n",
      "_________________________________________________________________\n",
      "flatten_6 (Flatten)          (None, 1600)              0         \n",
      "_________________________________________________________________\n",
      "dense_12 (Dense)             (None, 120)               192120    \n",
      "_________________________________________________________________\n",
      "dense_13 (Dense)             (None, 84)                10164     \n",
      "_________________________________________________________________\n",
      "dropout_8 (Dropout)          (None, 84)                0         \n",
      "_________________________________________________________________\n",
      "dense_14 (Dense)             (None, 10)                850       \n",
      "=================================================================\n",
      "Total params: 206,558\n",
      "Trainable params: 206,558\n",
      "Non-trainable params: 0\n",
      "_________________________________________________________________\n"
     ]
    }
   ],
   "source": [
    "model = Sequential()\n",
    "model.add(Conv2D(8, kernel_size=(5, 5),\n",
    "                 activation='relu',\n",
    "                 input_shape=input_shape))\n",
    "\n",
    "model.add(Conv2D(16, (5, 5), activation='relu'))\n",
    "model.add(MaxPooling2D(pool_size=(2, 2)))\n",
    "\n",
    "model.add(Flatten())\n",
    "model.add(Dense(120, activation='relu'))\n",
    "model.add(Dense(84, activation='relu'))\n",
    "model.add(Dropout(0.25))\n",
    "model.add(Dense(num_classes, activation='softmax'))\n",
    "model.summary()"
   ]
  },
  {
   "cell_type": "code",
   "execution_count": 0,
   "metadata": {
    "colab": {},
    "colab_type": "code",
    "id": "avw1PIGzZ_vx"
   },
   "outputs": [],
   "source": [
    "model.compile(loss=keras.losses.categorical_crossentropy,\n",
    "              optimizer=keras.optimizers.Adam(),\n",
    "              metrics=['accuracy'])\n"
   ]
  },
  {
   "cell_type": "code",
   "execution_count": 0,
   "metadata": {
    "colab": {
     "base_uri": "https://localhost:8080/",
     "height": 212
    },
    "colab_type": "code",
    "id": "ZYTMTBvtZ_0n",
    "outputId": "c7b27c1f-4807-4bd9-e528-4029211170a1"
   },
   "outputs": [
    {
     "name": "stdout",
     "output_type": "stream",
     "text": [
      "Train on 60000 samples, validate on 10000 samples\n",
      "Epoch 1/5\n",
      "60000/60000 [==============================] - 6s 103us/step - loss: 0.2812 - acc: 0.9140 - val_loss: 0.0821 - val_acc: 0.9741\n",
      "Epoch 2/5\n",
      "60000/60000 [==============================] - 5s 89us/step - loss: 0.0770 - acc: 0.9774 - val_loss: 0.0568 - val_acc: 0.9822\n",
      "Epoch 3/5\n",
      "60000/60000 [==============================] - 5s 89us/step - loss: 0.0522 - acc: 0.9841 - val_loss: 0.0369 - val_acc: 0.9873\n",
      "Epoch 4/5\n",
      "60000/60000 [==============================] - 5s 88us/step - loss: 0.0402 - acc: 0.9876 - val_loss: 0.0383 - val_acc: 0.9873\n",
      "Epoch 5/5\n",
      "60000/60000 [==============================] - 5s 87us/step - loss: 0.0306 - acc: 0.9904 - val_loss: 0.0380 - val_acc: 0.9872\n"
     ]
    }
   ],
   "source": [
    "epochs1 = 5 \n",
    "a = model.fit(x_train, y_train,\n",
    "          batch_size=batch_size,\n",
    "          epochs=epochs1,\n",
    "          verbose=1,\n",
    "          validation_data=(x_test, y_test))"
   ]
  },
  {
   "cell_type": "code",
   "execution_count": 0,
   "metadata": {
    "colab": {
     "base_uri": "https://localhost:8080/",
     "height": 372
    },
    "colab_type": "code",
    "id": "YenlMMASovZK",
    "outputId": "5c259e4f-750e-49a9-9b6b-9e5c79529594"
   },
   "outputs": [
    {
     "name": "stdout",
     "output_type": "stream",
     "text": [
      "Train score: 0.022948701379649963\n",
      "Train accuracy: 0.99275\n",
      "#############################################\n",
      "Test score: 0.037955300857852856\n",
      "Test accuracy: 0.9872\n"
     ]
    },
    {
     "data": {
      "image/png": "[encoded data removed]",
      "text/plain": [
       "<Figure size 432x288 with 1 Axes>"
      ]
     },
     "metadata": {
      "tags": []
     },
     "output_type": "display_data"
    }
   ],
   "source": [
    "%matplotlib inline \n",
    "score1 = model.evaluate(x_train, y_train, verbose=0) \n",
    "print('Train score:', score1[0]) \n",
    "print('Train accuracy:', score1[1])\n",
    "print(\"#############################################\")\n",
    "score = model.evaluate(x_test, y_test, verbose=0) \n",
    "print('Test score:', score[0]) \n",
    "print('Test accuracy:', score[1])\n",
    "\n",
    "fig,ax = plt.subplots(1,1)\n",
    "ax.set_xlabel('epoch') ; ax.set_ylabel('Categorical Crossentropy Loss')\n",
    "\n",
    "# list of epoch numbers\n",
    "x = list(range(1,epochs1+1))\n",
    "\n",
    "# print(history.history.keys())\n",
    "# dict_keys(['val_loss', 'val_acc', 'loss', 'acc'])\n",
    "# history = model_drop.fit(X_train, Y_train, batch_size=batch_size, epochs=nb_epoch, verbose=1, validation_data=(X_test, Y_test))\n",
    "\n",
    "# we will get val_loss and val_acc only when you pass the paramter validation_data\n",
    "# val_loss : validation loss\n",
    "# val_acc : validation accuracy\n",
    "\n",
    "# loss : training loss\n",
    "# acc : train accuracy\n",
    "# for each key in histrory.histrory we will have a list of length equal to number of epochs\n",
    "\n",
    "\n",
    "vy = a.history['val_loss']\n",
    "ty = a.history['loss']\n",
    "plt_dynamic(x, vy, ty, ax)"
   ]
  },
  {
   "cell_type": "markdown",
   "metadata": {
    "colab_type": "text",
    "id": "BREsu8ubgj6g"
   },
   "source": [
    "# 5.3. Architecture 3"
   ]
  },
  {
   "cell_type": "code",
   "execution_count": 0,
   "metadata": {
    "colab": {
     "base_uri": "https://localhost:8080/",
     "height": 764
    },
    "colab_type": "code",
    "id": "Qv0AjiI8vG43",
    "outputId": "2c378313-9654-4c38-e922-1ce02e209e9a"
   },
   "outputs": [
    {
     "name": "stdout",
     "output_type": "stream",
     "text": [
      "WARNING:tensorflow:From /usr/local/lib/python3.6/dist-packages/keras/backend/tensorflow_backend.py:2041: The name tf.nn.fused_batch_norm is deprecated. Please use tf.compat.v1.nn.fused_batch_norm instead.\n",
      "\n",
      "Model: \"sequential_9\"\n",
      "_________________________________________________________________\n",
      "Layer (type)                 Output Shape              Param #   \n",
      "=================================================================\n",
      "conv2d_23 (Conv2D)           (None, 26, 26, 32)        320       \n",
      "_________________________________________________________________\n",
      "conv2d_24 (Conv2D)           (None, 25, 25, 64)        8256      \n",
      "_________________________________________________________________\n",
      "max_pooling2d_9 (MaxPooling2 (None, 12, 12, 64)        0         \n",
      "_________________________________________________________________\n",
      "dropout_10 (Dropout)         (None, 12, 12, 64)        0         \n",
      "_________________________________________________________________\n",
      "conv2d_25 (Conv2D)           (None, 12, 12, 50)        12850     \n",
      "_________________________________________________________________\n",
      "max_pooling2d_10 (MaxPooling (None, 6, 6, 50)          0         \n",
      "_________________________________________________________________\n",
      "batch_normalization_1 (Batch (None, 6, 6, 50)          200       \n",
      "_________________________________________________________________\n",
      "dropout_11 (Dropout)         (None, 6, 6, 50)          0         \n",
      "_________________________________________________________________\n",
      "conv2d_26 (Conv2D)           (None, 6, 6, 60)          12060     \n",
      "_________________________________________________________________\n",
      "batch_normalization_2 (Batch (None, 6, 6, 60)          240       \n",
      "_________________________________________________________________\n",
      "dropout_12 (Dropout)         (None, 6, 6, 60)          0         \n",
      "_________________________________________________________________\n",
      "flatten_7 (Flatten)          (None, 2160)              0         \n",
      "_________________________________________________________________\n",
      "dense_15 (Dense)             (None, 100)               216100    \n",
      "_________________________________________________________________\n",
      "dense_16 (Dense)             (None, 80)                8080      \n",
      "_________________________________________________________________\n",
      "dropout_13 (Dropout)         (None, 80)                0         \n",
      "_________________________________________________________________\n",
      "dense_17 (Dense)             (None, 10)                810       \n",
      "=================================================================\n",
      "Total params: 258,916\n",
      "Trainable params: 258,696\n",
      "Non-trainable params: 220\n",
      "_________________________________________________________________\n"
     ]
    }
   ],
   "source": [
    "\n",
    "from keras.layers.normalization import BatchNormalization\n",
    "from keras.layers import Dropout\n",
    "\n",
    "model = Sequential()\n",
    "model.add(Conv2D(32, kernel_size=(3, 3),\n",
    "                 activation='relu',\n",
    "                 input_shape=input_shape))\n",
    "\n",
    "\n",
    "model.add(Conv2D(64, (2, 2), activation='relu'))\n",
    "model.add(MaxPooling2D(pool_size=(2, 2)))\n",
    "model.add(Dropout(0.25))\n",
    "\n",
    "model.add(Conv2D(50, (2, 2), activation='relu',padding='same'))\n",
    "model.add(MaxPooling2D(pool_size=(2, 2)))\n",
    "model.add(BatchNormalization())\n",
    "model.add(Dropout(0.2))\n",
    "\n",
    "model.add(Conv2D(60, (2, 2), activation='relu',padding='same'))\n",
    "model.add(BatchNormalization())\n",
    "model.add(Dropout(0.25))\n",
    "\n",
    "\n",
    "          \n",
    "model.add(Flatten())\n",
    "model.add(Dense(100, activation='relu'))\n",
    "model.add(Dense(80, activation='relu'))\n",
    "model.add(Dropout(0.5))\n",
    "model.add(Dense(num_classes, activation='softmax'))\n",
    "model.summary()\n",
    "\n"
   ]
  },
  {
   "cell_type": "code",
   "execution_count": 0,
   "metadata": {
    "colab": {},
    "colab_type": "code",
    "id": "MCviLDEHHL5v"
   },
   "outputs": [],
   "source": [
    "model.compile(loss=keras.losses.categorical_crossentropy,\n",
    "              optimizer=keras.optimizers.Adam(lr = 0.001),\n",
    "              metrics=['accuracy'])\n"
   ]
  },
  {
   "cell_type": "code",
   "execution_count": 0,
   "metadata": {
    "colab": {
     "base_uri": "https://localhost:8080/",
     "height": 390
    },
    "colab_type": "code",
    "id": "fUmg1VlhHdJ1",
    "outputId": "f1391d58-854d-4234-d544-aa830cf4265c"
   },
   "outputs": [
    {
     "name": "stdout",
     "output_type": "stream",
     "text": [
      "Train on 60000 samples, validate on 10000 samples\n",
      "Epoch 1/10\n",
      "60000/60000 [==============================] - 11s 184us/step - loss: 0.0607 - acc: 0.9827 - val_loss: 0.0415 - val_acc: 0.9875\n",
      "Epoch 2/10\n",
      "60000/60000 [==============================] - 11s 182us/step - loss: 0.0524 - acc: 0.9856 - val_loss: 0.0357 - val_acc: 0.9902\n",
      "Epoch 3/10\n",
      "60000/60000 [==============================] - 11s 181us/step - loss: 0.0468 - acc: 0.9873 - val_loss: 0.0315 - val_acc: 0.9911\n",
      "Epoch 4/10\n",
      "60000/60000 [==============================] - 11s 180us/step - loss: 0.0406 - acc: 0.9886 - val_loss: 0.0299 - val_acc: 0.9912\n",
      "Epoch 5/10\n",
      "60000/60000 [==============================] - 11s 183us/step - loss: 0.0392 - acc: 0.9886 - val_loss: 0.0347 - val_acc: 0.9909\n",
      "Epoch 6/10\n",
      "60000/60000 [==============================] - 11s 185us/step - loss: 0.0363 - acc: 0.9896 - val_loss: 0.0263 - val_acc: 0.9927\n",
      "Epoch 7/10\n",
      "60000/60000 [==============================] - 11s 184us/step - loss: 0.0323 - acc: 0.9909 - val_loss: 0.0465 - val_acc: 0.9899\n",
      "Epoch 8/10\n",
      "60000/60000 [==============================] - 11s 182us/step - loss: 0.0317 - acc: 0.9911 - val_loss: 0.0256 - val_acc: 0.9929\n",
      "Epoch 9/10\n",
      "60000/60000 [==============================] - 11s 179us/step - loss: 0.0281 - acc: 0.9920 - val_loss: 0.0281 - val_acc: 0.9922\n",
      "Epoch 10/10\n",
      "60000/60000 [==============================] - 11s 183us/step - loss: 0.0292 - acc: 0.9917 - val_loss: 0.0292 - val_acc: 0.9927\n"
     ]
    }
   ],
   "source": [
    "epochs2 = 10\n",
    "a = model.fit(x_train, y_train,\n",
    "          batch_size=batch_size,\n",
    "          epochs=epochs2,\n",
    "          verbose=1,\n",
    "          validation_data=(x_test, y_test))"
   ]
  },
  {
   "cell_type": "code",
   "execution_count": 0,
   "metadata": {
    "colab": {
     "base_uri": "https://localhost:8080/",
     "height": 372
    },
    "colab_type": "code",
    "id": "IqfOyJutvUQJ",
    "outputId": "97dad088-c863-4560-ed2a-5378031d6528"
   },
   "outputs": [
    {
     "name": "stdout",
     "output_type": "stream",
     "text": [
      "Train score: 0.01039956676193868\n",
      "Train accuracy: 0.9969\n",
      "#############################################\n",
      "Test score: 0.02921236282427808\n",
      "Test accuracy: 0.9927\n"
     ]
    },
    {
     "data": {
      "image/png": "[encoded data removed]",
      "text/plain": [
       "<Figure size 432x288 with 1 Axes>"
      ]
     },
     "metadata": {
      "tags": []
     },
     "output_type": "display_data"
    }
   ],
   "source": [
    "%matplotlib inline \n",
    "score1 = model.evaluate(x_train, y_train, verbose=0) \n",
    "print('Train score:', score1[0]) \n",
    "print('Train accuracy:', score1[1])\n",
    "print(\"#############################################\")\n",
    "score = model.evaluate(x_test, y_test, verbose=0) \n",
    "print('Test score:', score[0]) \n",
    "print('Test accuracy:', score[1])\n",
    "\n",
    "fig,ax = plt.subplots(1,1)\n",
    "ax.set_xlabel('epoch') ; ax.set_ylabel('Categorical Crossentropy Loss')\n",
    "\n",
    "# list of epoch numbers\n",
    "x = list(range(1,epochs2+1))\n",
    "\n",
    "# print(history.history.keys())\n",
    "# dict_keys(['val_loss', 'val_acc', 'loss', 'acc'])\n",
    "# history = model_drop.fit(X_train, Y_train, batch_size=batch_size, epochs=nb_epoch, verbose=1, validation_data=(X_test, Y_test))\n",
    "\n",
    "# we will get val_loss and val_acc only when you pass the paramter validation_data\n",
    "# val_loss : validation loss\n",
    "# val_acc : validation accuracy\n",
    "\n",
    "# loss : training loss\n",
    "# acc : train accuracy\n",
    "# for each key in histrory.histrory we will have a list of length equal to number of epochs\n",
    "\n",
    "\n",
    "vy = a.history['val_loss']\n",
    "ty = a.history['loss']\n",
    "plt_dynamic(x, vy, ty, ax)"
   ]
  },
  {
   "cell_type": "markdown",
   "metadata": {
    "colab_type": "text",
    "id": "IZmT0Jmmgj7D"
   },
   "source": [
    "# 5.4. Architecture 4"
   ]
  },
  {
   "cell_type": "code",
   "execution_count": 0,
   "metadata": {
    "colab": {
     "base_uri": "https://localhost:8080/",
     "height": 870
    },
    "colab_type": "code",
    "id": "9Z_hA0CSK-q-",
    "outputId": "3c78ff73-3738-48d3-a846-09f7ae9f390f"
   },
   "outputs": [
    {
     "name": "stdout",
     "output_type": "stream",
     "text": [
      "Model: \"sequential_11\"\n",
      "_________________________________________________________________\n",
      "Layer (type)                 Output Shape              Param #   \n",
      "=================================================================\n",
      "conv2d_32 (Conv2D)           (None, 23, 23, 50)        1850      \n",
      "_________________________________________________________________\n",
      "conv2d_33 (Conv2D)           (None, 18, 18, 60)        108060    \n",
      "_________________________________________________________________\n",
      "max_pooling2d_14 (MaxPooling (None, 9, 9, 60)          0         \n",
      "_________________________________________________________________\n",
      "dropout_18 (Dropout)         (None, 9, 9, 60)          0         \n",
      "_________________________________________________________________\n",
      "conv2d_34 (Conv2D)           (None, 9, 9, 70)          151270    \n",
      "_________________________________________________________________\n",
      "max_pooling2d_15 (MaxPooling (None, 4, 4, 70)          0         \n",
      "_________________________________________________________________\n",
      "batch_normalization_6 (Batch (None, 4, 4, 70)          280       \n",
      "_________________________________________________________________\n",
      "dropout_19 (Dropout)         (None, 4, 4, 70)          0         \n",
      "_________________________________________________________________\n",
      "conv2d_35 (Conv2D)           (None, 4, 4, 80)          201680    \n",
      "_________________________________________________________________\n",
      "max_pooling2d_16 (MaxPooling (None, 2, 2, 80)          0         \n",
      "_________________________________________________________________\n",
      "batch_normalization_7 (Batch (None, 2, 2, 80)          320       \n",
      "_________________________________________________________________\n",
      "dropout_20 (Dropout)         (None, 2, 2, 80)          0         \n",
      "_________________________________________________________________\n",
      "conv2d_36 (Conv2D)           (None, 2, 2, 85)          244885    \n",
      "_________________________________________________________________\n",
      "batch_normalization_8 (Batch (None, 2, 2, 85)          340       \n",
      "_________________________________________________________________\n",
      "dropout_21 (Dropout)         (None, 2, 2, 85)          0         \n",
      "_________________________________________________________________\n",
      "flatten_9 (Flatten)          (None, 340)               0         \n",
      "_________________________________________________________________\n",
      "dense_20 (Dense)             (None, 90)                30690     \n",
      "_________________________________________________________________\n",
      "dense_21 (Dense)             (None, 100)               9100      \n",
      "_________________________________________________________________\n",
      "dropout_22 (Dropout)         (None, 100)               0         \n",
      "_________________________________________________________________\n",
      "dense_22 (Dense)             (None, 10)                1010      \n",
      "=================================================================\n",
      "Total params: 749,485\n",
      "Trainable params: 749,015\n",
      "Non-trainable params: 470\n",
      "_________________________________________________________________\n"
     ]
    }
   ],
   "source": [
    "model = Sequential()\n",
    "model.add(Conv2D(50, kernel_size=(6, 6),\n",
    "                 activation='relu',\n",
    "                 input_shape=input_shape))\n",
    "\n",
    "\n",
    "model.add(Conv2D(60, (6, 6), activation='relu'))\n",
    "model.add(MaxPooling2D(pool_size=(2, 2),strides = 2))\n",
    "model.add(Dropout(0.25))\n",
    "\n",
    "model.add(Conv2D(70, (6, 6), activation='relu',padding='same'))\n",
    "model.add(MaxPooling2D(pool_size=(2, 2),strides = 2))\n",
    "model.add(BatchNormalization())\n",
    "model.add(Dropout(0.2))\n",
    "\n",
    "model.add(Conv2D(80, (6, 6), activation='relu',padding='same'))\n",
    "model.add(MaxPooling2D(pool_size=(2, 2),strides = 2))\n",
    "model.add(BatchNormalization())\n",
    "model.add(Dropout(0.25))\n",
    "\n",
    "model.add(Conv2D(85, (6, 6), activation='relu',padding='same'))\n",
    "model.add(BatchNormalization())\n",
    "model.add(Dropout(0.25))\n",
    "\n",
    "model.add(Flatten())\n",
    "model.add(Dense(90, activation='relu'))\n",
    "model.add(Dense(100, activation='relu'))\n",
    "model.add(Dropout(0.5))\n",
    "model.add(Dense(num_classes, activation='softmax'))\n",
    "model.summary()"
   ]
  },
  {
   "cell_type": "code",
   "execution_count": 0,
   "metadata": {
    "colab": {},
    "colab_type": "code",
    "id": "SthdMIg7MAIY"
   },
   "outputs": [],
   "source": [
    "model.compile(loss=keras.losses.categorical_crossentropy,\n",
    "              optimizer=keras.optimizers.rmsprop(),\n",
    "              metrics=['accuracy'])\n"
   ]
  },
  {
   "cell_type": "code",
   "execution_count": 0,
   "metadata": {
    "colab": {
     "base_uri": "https://localhost:8080/",
     "height": 390
    },
    "colab_type": "code",
    "id": "nZ_d2IUXMAOy",
    "outputId": "180fc711-d828-4b3a-fef1-48699cb2c18a"
   },
   "outputs": [
    {
     "name": "stdout",
     "output_type": "stream",
     "text": [
      "Train on 60000 samples, validate on 10000 samples\n",
      "Epoch 1/10\n",
      "60000/60000 [==============================] - 18s 292us/step - loss: 0.2338 - acc: 0.9316 - val_loss: 0.0797 - val_acc: 0.9847\n",
      "Epoch 2/10\n",
      "60000/60000 [==============================] - 15s 253us/step - loss: 0.0692 - acc: 0.9821 - val_loss: 0.0571 - val_acc: 0.9857\n",
      "Epoch 3/10\n",
      "60000/60000 [==============================] - 15s 251us/step - loss: 0.0545 - acc: 0.9862 - val_loss: 0.0435 - val_acc: 0.9879\n",
      "Epoch 4/10\n",
      "60000/60000 [==============================] - 15s 254us/step - loss: 0.0489 - acc: 0.9883 - val_loss: 0.0534 - val_acc: 0.9854\n",
      "Epoch 5/10\n",
      "60000/60000 [==============================] - 15s 252us/step - loss: 0.0428 - acc: 0.9901 - val_loss: 0.0435 - val_acc: 0.9926\n",
      "Epoch 6/10\n",
      "60000/60000 [==============================] - 15s 255us/step - loss: 0.0380 - acc: 0.9914 - val_loss: 0.0493 - val_acc: 0.9891\n",
      "Epoch 7/10\n",
      "60000/60000 [==============================] - 15s 254us/step - loss: 0.0364 - acc: 0.9915 - val_loss: 0.0368 - val_acc: 0.9928\n",
      "Epoch 8/10\n",
      "60000/60000 [==============================] - 15s 254us/step - loss: 0.0369 - acc: 0.9920 - val_loss: 0.0369 - val_acc: 0.9917\n",
      "Epoch 9/10\n",
      "60000/60000 [==============================] - 15s 253us/step - loss: 0.0315 - acc: 0.9928 - val_loss: 0.0420 - val_acc: 0.9919\n",
      "Epoch 10/10\n",
      "60000/60000 [==============================] - 15s 253us/step - loss: 0.0324 - acc: 0.9933 - val_loss: 0.0408 - val_acc: 0.9916\n"
     ]
    }
   ],
   "source": [
    "epochs3 = 10\n",
    "a = model.fit(x_train, y_train,\n",
    "          batch_size=batch_size,\n",
    "          epochs=epochs3,\n",
    "          verbose=1,\n",
    "          validation_data=(x_test, y_test))"
   ]
  },
  {
   "cell_type": "code",
   "execution_count": 0,
   "metadata": {
    "colab": {
     "base_uri": "https://localhost:8080/",
     "height": 372
    },
    "colab_type": "code",
    "id": "CY7qpGJ5MAR8",
    "outputId": "9ce0d681-e97c-4c78-f170-a14ec7881610"
   },
   "outputs": [
    {
     "name": "stdout",
     "output_type": "stream",
     "text": [
      "Train score: 0.014001991421726733\n",
      "Train accuracy: 0.9965333333333334\n",
      "#############################################\n",
      "Test score: 0.04084050936136118\n",
      "Test accuracy: 0.9916\n"
     ]
    },
    {
     "data": {
      "image/png": "[encoded data removed]",
      "text/plain": [
       "<Figure size 432x288 with 1 Axes>"
      ]
     },
     "metadata": {
      "tags": []
     },
     "output_type": "display_data"
    }
   ],
   "source": [
    "%matplotlib inline \n",
    "score1 = model.evaluate(x_train, y_train, verbose=0) \n",
    "print('Train score:', score1[0]) \n",
    "print('Train accuracy:', score1[1])\n",
    "print(\"#############################################\")\n",
    "score = model.evaluate(x_test, y_test, verbose=0) \n",
    "print('Test score:', score[0]) \n",
    "print('Test accuracy:', score[1])\n",
    "\n",
    "fig,ax = plt.subplots(1,1)\n",
    "ax.set_xlabel('epoch') ; ax.set_ylabel('Categorical Crossentropy Loss')\n",
    "\n",
    "# list of epoch numbers\n",
    "x = list(range(1,epochs3+1))\n",
    "\n",
    "# print(history.history.keys())\n",
    "# dict_keys(['val_loss', 'val_acc', 'loss', 'acc'])\n",
    "# history = model_drop.fit(X_train, Y_train, batch_size=batch_size, epochs=nb_epoch, verbose=1, validation_data=(X_test, Y_test))\n",
    "\n",
    "# we will get val_loss and val_acc only when you pass the paramter validation_data\n",
    "# val_loss : validation loss\n",
    "# val_acc : validation accuracy\n",
    "\n",
    "# loss : training loss\n",
    "# acc : train accuracy\n",
    "# for each key in histrory.histrory we will have a list of length equal to number of epochs\n",
    "\n",
    "\n",
    "vy = a.history['val_loss']\n",
    "ty = a.history['loss']\n",
    "plt_dynamic(x, vy, ty, ax)"
   ]
  },
  {
   "cell_type": "markdown",
   "metadata": {
    "colab_type": "text",
    "id": "GkXtw-uYgj7X"
   },
   "source": [
    "# 5.5. Architecture 5"
   ]
  },
  {
   "cell_type": "markdown",
   "metadata": {
    "colab_type": "text",
    "id": "YuXfzhcMNHMz"
   },
   "source": [
    "Architecture 3 with epoch 4"
   ]
  },
  {
   "cell_type": "code",
   "execution_count": 0,
   "metadata": {
    "colab": {
     "base_uri": "https://localhost:8080/",
     "height": 870
    },
    "colab_type": "code",
    "id": "DqmXo8WGMAZY",
    "outputId": "63ea0602-cc90-488d-b151-dd67613154e1"
   },
   "outputs": [
    {
     "name": "stdout",
     "output_type": "stream",
     "text": [
      "Model: \"sequential_12\"\n",
      "_________________________________________________________________\n",
      "Layer (type)                 Output Shape              Param #   \n",
      "=================================================================\n",
      "conv2d_37 (Conv2D)           (None, 23, 23, 50)        1850      \n",
      "_________________________________________________________________\n",
      "conv2d_38 (Conv2D)           (None, 18, 18, 60)        108060    \n",
      "_________________________________________________________________\n",
      "max_pooling2d_17 (MaxPooling (None, 9, 9, 60)          0         \n",
      "_________________________________________________________________\n",
      "dropout_23 (Dropout)         (None, 9, 9, 60)          0         \n",
      "_________________________________________________________________\n",
      "conv2d_39 (Conv2D)           (None, 9, 9, 70)          151270    \n",
      "_________________________________________________________________\n",
      "max_pooling2d_18 (MaxPooling (None, 4, 4, 70)          0         \n",
      "_________________________________________________________________\n",
      "batch_normalization_9 (Batch (None, 4, 4, 70)          280       \n",
      "_________________________________________________________________\n",
      "dropout_24 (Dropout)         (None, 4, 4, 70)          0         \n",
      "_________________________________________________________________\n",
      "conv2d_40 (Conv2D)           (None, 4, 4, 80)          201680    \n",
      "_________________________________________________________________\n",
      "max_pooling2d_19 (MaxPooling (None, 2, 2, 80)          0         \n",
      "_________________________________________________________________\n",
      "batch_normalization_10 (Batc (None, 2, 2, 80)          320       \n",
      "_________________________________________________________________\n",
      "dropout_25 (Dropout)         (None, 2, 2, 80)          0         \n",
      "_________________________________________________________________\n",
      "conv2d_41 (Conv2D)           (None, 2, 2, 85)          244885    \n",
      "_________________________________________________________________\n",
      "batch_normalization_11 (Batc (None, 2, 2, 85)          340       \n",
      "_________________________________________________________________\n",
      "dropout_26 (Dropout)         (None, 2, 2, 85)          0         \n",
      "_________________________________________________________________\n",
      "flatten_10 (Flatten)         (None, 340)               0         \n",
      "_________________________________________________________________\n",
      "dense_23 (Dense)             (None, 90)                30690     \n",
      "_________________________________________________________________\n",
      "dense_24 (Dense)             (None, 100)               9100      \n",
      "_________________________________________________________________\n",
      "dropout_27 (Dropout)         (None, 100)               0         \n",
      "_________________________________________________________________\n",
      "dense_25 (Dense)             (None, 10)                1010      \n",
      "=================================================================\n",
      "Total params: 749,485\n",
      "Trainable params: 749,015\n",
      "Non-trainable params: 470\n",
      "_________________________________________________________________\n"
     ]
    }
   ],
   "source": [
    "model = Sequential()\n",
    "model.add(Conv2D(50, kernel_size=(6, 6),\n",
    "                 activation='relu',\n",
    "                 input_shape=input_shape))\n",
    "\n",
    "\n",
    "model.add(Conv2D(60, (6, 6), activation='relu'))\n",
    "model.add(MaxPooling2D(pool_size=(2, 2),strides = 2))\n",
    "model.add(Dropout(0.25))\n",
    "\n",
    "model.add(Conv2D(70, (6, 6), activation='relu',padding='same'))\n",
    "model.add(MaxPooling2D(pool_size=(2, 2),strides = 2))\n",
    "model.add(BatchNormalization())\n",
    "model.add(Dropout(0.2))\n",
    "\n",
    "model.add(Conv2D(80, (6, 6), activation='relu',padding='same'))\n",
    "model.add(MaxPooling2D(pool_size=(2, 2),strides = 2))\n",
    "model.add(BatchNormalization())\n",
    "model.add(Dropout(0.25))\n",
    "\n",
    "model.add(Conv2D(85, (6, 6), activation='relu',padding='same'))\n",
    "model.add(BatchNormalization())\n",
    "model.add(Dropout(0.25))\n",
    "\n",
    "model.add(Flatten())\n",
    "model.add(Dense(90, activation='relu'))\n",
    "model.add(Dense(100, activation='relu'))\n",
    "model.add(Dropout(0.5))\n",
    "model.add(Dense(num_classes, activation='softmax'))\n",
    "model.summary()"
   ]
  },
  {
   "cell_type": "code",
   "execution_count": 0,
   "metadata": {
    "colab": {
     "base_uri": "https://localhost:8080/",
     "height": 177
    },
    "colab_type": "code",
    "id": "Yp9BODcXMAcW",
    "outputId": "bc1b122b-68e2-419d-cfbd-1def2c6f560c"
   },
   "outputs": [
    {
     "name": "stdout",
     "output_type": "stream",
     "text": [
      "Train on 60000 samples, validate on 10000 samples\n",
      "Epoch 1/4\n",
      "60000/60000 [==============================] - 17s 285us/step - loss: 0.2547 - acc: 0.9246 - val_loss: 0.1875 - val_acc: 0.9656\n",
      "Epoch 2/4\n",
      "60000/60000 [==============================] - 15s 253us/step - loss: 0.0719 - acc: 0.9815 - val_loss: 0.0595 - val_acc: 0.9871\n",
      "Epoch 3/4\n",
      "60000/60000 [==============================] - 16s 259us/step - loss: 0.0567 - acc: 0.9859 - val_loss: 0.0657 - val_acc: 0.9854\n",
      "Epoch 4/4\n",
      "60000/60000 [==============================] - 15s 255us/step - loss: 0.0459 - acc: 0.9888 - val_loss: 0.0392 - val_acc: 0.9904\n"
     ]
    }
   ],
   "source": [
    "model.compile(loss=keras.losses.categorical_crossentropy,\n",
    "              optimizer=keras.optimizers.rmsprop(),\n",
    "              metrics=['accuracy'])\n",
    "epochs4 = 4\n",
    "a = model.fit(x_train, y_train,\n",
    "          batch_size=batch_size,\n",
    "          epochs=epochs4,\n",
    "          verbose=1,\n",
    "          validation_data=(x_test, y_test))"
   ]
  },
  {
   "cell_type": "code",
   "execution_count": 0,
   "metadata": {
    "colab": {
     "base_uri": "https://localhost:8080/",
     "height": 372
    },
    "colab_type": "code",
    "id": "EEWCy-2mN5We",
    "outputId": "f9e4dfa0-4dfb-48c2-82d0-ec98875a28ea"
   },
   "outputs": [
    {
     "name": "stdout",
     "output_type": "stream",
     "text": [
      "Train score: 0.03082377031972772\n",
      "Train accuracy: 0.99295\n",
      "#############################################\n",
      "Test score: 0.03924712953594576\n",
      "Test accuracy: 0.9904\n"
     ]
    },
    {
     "data": {
      "image/png": "[encoded data removed]",
      "text/plain": [
       "<Figure size 432x288 with 1 Axes>"
      ]
     },
     "metadata": {
      "tags": []
     },
     "output_type": "display_data"
    }
   ],
   "source": [
    "%matplotlib inline \n",
    "score1 = model.evaluate(x_train, y_train, verbose=0) \n",
    "print('Train score:', score1[0]) \n",
    "print('Train accuracy:', score1[1])\n",
    "print(\"#############################################\")\n",
    "score = model.evaluate(x_test, y_test, verbose=0) \n",
    "print('Test score:', score[0]) \n",
    "print('Test accuracy:', score[1])\n",
    "\n",
    "fig,ax = plt.subplots(1,1)\n",
    "ax.set_xlabel('epoch') ; ax.set_ylabel('Categorical Crossentropy Loss')\n",
    "\n",
    "# list of epoch numbers\n",
    "x = list(range(1,epochs4+1))\n",
    "\n",
    "# print(history.history.keys())\n",
    "# dict_keys(['val_loss', 'val_acc', 'loss', 'acc'])\n",
    "# history = model_drop.fit(X_train, Y_train, batch_size=batch_size, epochs=nb_epoch, verbose=1, validation_data=(X_test, Y_test))\n",
    "\n",
    "# we will get val_loss and val_acc only when you pass the paramter validation_data\n",
    "# val_loss : validation loss\n",
    "# val_acc : validation accuracy\n",
    "\n",
    "# loss : training loss\n",
    "# acc : train accuracy\n",
    "# for each key in histrory.histrory we will have a list of length equal to number of epochs\n",
    "\n",
    "\n",
    "vy = a.history['val_loss']\n",
    "ty = a.history['loss']\n",
    "plt_dynamic(x, vy, ty, ax)"
   ]
  },
  {
   "cell_type": "markdown",
   "metadata": {
    "colab": {},
    "colab_type": "code",
    "id": "5v5BntM9N5b1"
   },
   "source": [
    "# 5.6. Architecture 6"
   ]
  },
  {
   "cell_type": "code",
   "execution_count": 0,
   "metadata": {
    "colab": {
     "base_uri": "https://localhost:8080/",
     "height": 1000
    },
    "colab_type": "code",
    "id": "J826daewRmhe",
    "outputId": "327be3d5-4221-41c7-9271-331307bd5fe5"
   },
   "outputs": [
    {
     "name": "stdout",
     "output_type": "stream",
     "text": [
      "Model: \"sequential_20\"\n",
      "_________________________________________________________________\n",
      "Layer (type)                 Output Shape              Param #   \n",
      "=================================================================\n",
      "conv2d_79 (Conv2D)           (None, 26, 26, 30)        300       \n",
      "_________________________________________________________________\n",
      "conv2d_80 (Conv2D)           (None, 24, 24, 40)        10840     \n",
      "_________________________________________________________________\n",
      "max_pooling2d_50 (MaxPooling (None, 12, 12, 40)        0         \n",
      "_________________________________________________________________\n",
      "dropout_51 (Dropout)         (None, 12, 12, 40)        0         \n",
      "_________________________________________________________________\n",
      "conv2d_81 (Conv2D)           (None, 12, 12, 50)        18050     \n",
      "_________________________________________________________________\n",
      "max_pooling2d_51 (MaxPooling (None, 6, 6, 50)          0         \n",
      "_________________________________________________________________\n",
      "batch_normalization_28 (Batc (None, 6, 6, 50)          200       \n",
      "_________________________________________________________________\n",
      "dropout_52 (Dropout)         (None, 6, 6, 50)          0         \n",
      "_________________________________________________________________\n",
      "conv2d_82 (Conv2D)           (None, 6, 6, 60)          27060     \n",
      "_________________________________________________________________\n",
      "max_pooling2d_52 (MaxPooling (None, 3, 3, 60)          0         \n",
      "_________________________________________________________________\n",
      "batch_normalization_29 (Batc (None, 3, 3, 60)          240       \n",
      "_________________________________________________________________\n",
      "dropout_53 (Dropout)         (None, 3, 3, 60)          0         \n",
      "_________________________________________________________________\n",
      "conv2d_83 (Conv2D)           (None, 3, 3, 70)          37870     \n",
      "_________________________________________________________________\n",
      "max_pooling2d_53 (MaxPooling (None, 1, 1, 70)          0         \n",
      "_________________________________________________________________\n",
      "batch_normalization_30 (Batc (None, 1, 1, 70)          280       \n",
      "_________________________________________________________________\n",
      "dropout_54 (Dropout)         (None, 1, 1, 70)          0         \n",
      "_________________________________________________________________\n",
      "conv2d_84 (Conv2D)           (None, 1, 1, 80)          50480     \n",
      "_________________________________________________________________\n",
      "batch_normalization_31 (Batc (None, 1, 1, 80)          320       \n",
      "_________________________________________________________________\n",
      "dropout_55 (Dropout)         (None, 1, 1, 80)          0         \n",
      "_________________________________________________________________\n",
      "conv2d_85 (Conv2D)           (None, 1, 1, 90)          64890     \n",
      "_________________________________________________________________\n",
      "batch_normalization_32 (Batc (None, 1, 1, 90)          360       \n",
      "_________________________________________________________________\n",
      "dropout_56 (Dropout)         (None, 1, 1, 90)          0         \n",
      "_________________________________________________________________\n",
      "flatten_11 (Flatten)         (None, 90)                0         \n",
      "_________________________________________________________________\n",
      "dense_26 (Dense)             (None, 100)               9100      \n",
      "_________________________________________________________________\n",
      "dropout_57 (Dropout)         (None, 100)               0         \n",
      "_________________________________________________________________\n",
      "dense_27 (Dense)             (None, 10)                1010      \n",
      "=================================================================\n",
      "Total params: 221,000\n",
      "Trainable params: 220,300\n",
      "Non-trainable params: 700\n",
      "_________________________________________________________________\n"
     ]
    }
   ],
   "source": [
    "model = Sequential()\n",
    "model.add(Conv2D(30, kernel_size=(3, 3),\n",
    "                 activation='relu',\n",
    "                 input_shape=input_shape))\n",
    "\n",
    "model.add(Conv2D(40, (3, 3), activation='relu'))\n",
    "model.add(MaxPooling2D(pool_size=(2, 2)))\n",
    "model.add(Dropout(0.2))\n",
    "\n",
    "model.add(Conv2D(50, (3, 3), activation='relu',padding='same'))\n",
    "model.add(MaxPooling2D(pool_size=(2, 2)))\n",
    "model.add(BatchNormalization())\n",
    "model.add(Dropout(0.2))\n",
    "\n",
    "model.add(Conv2D(60, (3, 3), activation='relu',padding='same'))\n",
    "model.add(MaxPooling2D(pool_size=(2, 2),strides = 2))\n",
    "model.add(BatchNormalization())\n",
    "model.add(Dropout(0.2))\n",
    "\n",
    "\n",
    "model.add(Conv2D(70, (3, 3), activation='relu',padding='same'))\n",
    "model.add(MaxPooling2D(pool_size=(2, 2)))\n",
    "model.add(BatchNormalization())\n",
    "model.add(Dropout(0.2))\n",
    "\n",
    "model.add(Conv2D(80, (3, 3), activation='relu',padding='same'))\n",
    "model.add(BatchNormalization())\n",
    "model.add(Dropout(0.25))\n",
    "\n",
    "model.add(Conv2D(90, (3, 3), activation='relu',padding='same'))\n",
    "model.add(BatchNormalization())\n",
    "model.add(Dropout(0.25))\n",
    "\n",
    "\n",
    "model.add(Flatten())\n",
    "model.add(Dense(100, activation='relu'))\n",
    "model.add(Dropout(0.5))\n",
    "model.add(Dense(num_classes, activation='softmax'))\n",
    "model.summary()\n"
   ]
  },
  {
   "cell_type": "code",
   "execution_count": 0,
   "metadata": {
    "colab": {
     "base_uri": "https://localhost:8080/",
     "height": 212
    },
    "colab_type": "code",
    "id": "5Eikhq2rN5mS",
    "outputId": "102fa5c4-0332-4247-ff96-e0c9f8217def"
   },
   "outputs": [
    {
     "name": "stdout",
     "output_type": "stream",
     "text": [
      "Train on 60000 samples, validate on 10000 samples\n",
      "Epoch 1/5\n",
      "60000/60000 [==============================] - 20s 339us/step - loss: 0.4664 - acc: 0.8565 - val_loss: 0.0756 - val_acc: 0.9804\n",
      "Epoch 2/5\n",
      "60000/60000 [==============================] - 14s 235us/step - loss: 0.1150 - acc: 0.9704 - val_loss: 0.0594 - val_acc: 0.9860\n",
      "Epoch 3/5\n",
      "60000/60000 [==============================] - 14s 237us/step - loss: 0.0908 - acc: 0.9776 - val_loss: 0.0455 - val_acc: 0.9884\n",
      "Epoch 4/5\n",
      "60000/60000 [==============================] - 14s 233us/step - loss: 0.0757 - acc: 0.9816 - val_loss: 0.0388 - val_acc: 0.9900\n",
      "Epoch 5/5\n",
      "60000/60000 [==============================] - 14s 236us/step - loss: 0.0688 - acc: 0.9830 - val_loss: 0.0551 - val_acc: 0.9875\n"
     ]
    }
   ],
   "source": [
    "model.compile(loss=keras.losses.categorical_crossentropy,\n",
    "              optimizer=keras.optimizers.rmsprop(),\n",
    "              metrics=['accuracy'])\n",
    "epochs5 = 5\n",
    "a = model.fit(x_train, y_train,\n",
    "          batch_size=batch_size,\n",
    "          epochs=epochs5,\n",
    "          verbose=1,\n",
    "          validation_data=(x_test, y_test))"
   ]
  },
  {
   "cell_type": "code",
   "execution_count": 0,
   "metadata": {
    "colab": {
     "base_uri": "https://localhost:8080/",
     "height": 372
    },
    "colab_type": "code",
    "id": "754s1gFRN5r5",
    "outputId": "69bf50c4-81fd-4521-8557-2a761b8fea54"
   },
   "outputs": [
    {
     "name": "stdout",
     "output_type": "stream",
     "text": [
      "Train score: 0.043656497059857385\n",
      "Train accuracy: 0.9891333333333333\n",
      "#############################################\n",
      "Test score: 0.05505621771432245\n",
      "Test accuracy: 0.9875\n"
     ]
    },
    {
     "data": {
      "image/png": "[encoded data removed]",
      "text/plain": [
       "<Figure size 432x288 with 1 Axes>"
      ]
     },
     "metadata": {
      "tags": []
     },
     "output_type": "display_data"
    }
   ],
   "source": [
    "%matplotlib inline \n",
    "score1 = model.evaluate(x_train, y_train, verbose=0) \n",
    "print('Train score:', score1[0]) \n",
    "print('Train accuracy:', score1[1])\n",
    "print(\"#############################################\")\n",
    "score = model.evaluate(x_test, y_test, verbose=0) \n",
    "print('Test score:', score[0]) \n",
    "print('Test accuracy:', score[1])\n",
    "\n",
    "fig,ax = plt.subplots(1,1)\n",
    "ax.set_xlabel('epoch') ; ax.set_ylabel('Categorical Crossentropy Loss')\n",
    "\n",
    "# list of epoch numbers\n",
    "x = list(range(1,epochs5+1))\n",
    "\n",
    "# print(history.history.keys())\n",
    "# dict_keys(['val_loss', 'val_acc', 'loss', 'acc'])\n",
    "# history = model_drop.fit(X_train, Y_train, batch_size=batch_size, epochs=nb_epoch, verbose=1, validation_data=(X_test, Y_test))\n",
    "\n",
    "# we will get val_loss and val_acc only when you pass the paramter validation_data\n",
    "# val_loss : validation loss\n",
    "# val_acc : validation accuracy\n",
    "\n",
    "# loss : training loss\n",
    "# acc : train accuracy\n",
    "# for each key in histrory.histrory we will have a list of length equal to number of epochs\n",
    "\n",
    "\n",
    "vy = a.history['val_loss']\n",
    "ty = a.history['loss']\n",
    "plt_dynamic(x, vy, ty, ax)"
   ]
  },
  {
   "cell_type": "markdown",
   "metadata": {
    "colab": {},
    "colab_type": "code",
    "id": "8hLwPjrDN5x3"
   },
   "source": [
    "# 6. Conclusion"
   ]
  },
  {
   "cell_type": "code",
   "execution_count": 3,
   "metadata": {
    "colab": {},
    "colab_type": "code",
    "id": "cJ10cRfON5j-"
   },
   "outputs": [
    {
     "name": "stdout",
     "output_type": "stream",
     "text": [
      "+----------------+------------------+----------------+---------------+\n",
      "|     Model      | Number of epochs | Train Accuracy | Test Accuracy |\n",
      "+----------------+------------------+----------------+---------------+\n",
      "| Architecture 1 |        12        |     0.9982     |     0.992     |\n",
      "| Architecture 2 |        5         |     0.9927     |     0.9872    |\n",
      "| Architecture 3 |        10        |     0.9969     |     0.9927    |\n",
      "| Architecture 4 |        10        |     0.9965     |     0.9916    |\n",
      "| Architecture 5 |        4         |     0.9929     |     0.9904    |\n",
      "| Architecture 6 |        5         |     0.9891     |     0.9875    |\n",
      "+----------------+------------------+----------------+---------------+\n"
     ]
    }
   ],
   "source": [
    "# http://zetcode.com/python/prettytable/\n",
    "from prettytable import PrettyTable\n",
    "\n",
    "#If you get a ModuleNotFoundError error , install prettytable using: pip3 install prettytable\n",
    "\n",
    "x = PrettyTable()\n",
    "\n",
    "x.field_names = [\"Model\", \"Number of epochs\", \"Train Accuracy\",\"Test Accuracy\"]\n",
    "\n",
    "x.add_row([\"Architecture 1\",12,0.9982,0.992])\n",
    "x.add_row([\"Architecture 2\",5,0.9927,0.9872])\n",
    "x.add_row([\"Architecture 3\",10,0.9969,0.9927])\n",
    "x.add_row([\"Architecture 4\",10,0.9965,0.9916])\n",
    "x.add_row([\"Architecture 5\",4,0.9929,0.9904])\n",
    "x.add_row([\"Architecture 6\",5,0.9891,0.9875])\n",
    "\n",
    "print(x)\n",
    "\n",
    "\n"
   ]
  },
  {
   "cell_type": "code",
   "execution_count": null,
   "metadata": {},
   "outputs": [],
   "source": []
  },
  {
   "cell_type": "code",
   "execution_count": null,
   "metadata": {},
   "outputs": [],
   "source": []
  }
 ],
 "metadata": {
  "accelerator": "GPU",
  "colab": {
   "collapsed_sections": [],
   "name": "CNN_MNIST_assignment.ipynb",
   "provenance": []
  },
  "kernelspec": {
   "display_name": "Python 3",
   "language": "python",
   "name": "python3"
  },
  "language_info": {
   "codemirror_mode": {
    "name": "ipython",
    "version": 3
   },
   "file_extension": ".py",
   "mimetype": "text/x-python",
   "name": "python",
   "nbconvert_exporter": "python",
   "pygments_lexer": "ipython3",
   "version": "3.7.3"
  }
 },
 "nbformat": 4,
 "nbformat_minor": 1
}
